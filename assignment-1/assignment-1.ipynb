{
 "cells": [
  {
   "cell_type": "code",
   "execution_count": 1,
   "metadata": {},
   "outputs": [],
   "source": [
    "import numpy as np\n",
    "import pandas as pd\n",
    "from matplotlib import pyplot as plt"
   ]
  },
  {
   "cell_type": "code",
   "execution_count": 34,
   "metadata": {},
   "outputs": [],
   "source": [
    "data_colorchecker = pd.read_excel('ColorChecker_RGB_and_spectra.xls', sheet_name='spectral_data', index_col='Color name', skiprows=1, nrows=24)\n",
    "data_colorchecker = data_colorchecker.drop(columns=['No.'])"
   ]
  },
  {
   "cell_type": "code",
   "execution_count": 35,
   "metadata": {
    "scrolled": true
   },
   "outputs": [
    {
     "data": {
      "text/html": [
       "<div>\n",
       "<style scoped>\n",
       "    .dataframe tbody tr th:only-of-type {\n",
       "        vertical-align: middle;\n",
       "    }\n",
       "\n",
       "    .dataframe tbody tr th {\n",
       "        vertical-align: top;\n",
       "    }\n",
       "\n",
       "    .dataframe thead th {\n",
       "        text-align: right;\n",
       "    }\n",
       "</style>\n",
       "<table border=\"1\" class=\"dataframe\">\n",
       "  <thead>\n",
       "    <tr style=\"text-align: right;\">\n",
       "      <th></th>\n",
       "      <th>380</th>\n",
       "      <th>390</th>\n",
       "      <th>400</th>\n",
       "      <th>410</th>\n",
       "      <th>420</th>\n",
       "      <th>430</th>\n",
       "      <th>440</th>\n",
       "      <th>450</th>\n",
       "      <th>460</th>\n",
       "      <th>470</th>\n",
       "      <th>...</th>\n",
       "      <th>640</th>\n",
       "      <th>650</th>\n",
       "      <th>660</th>\n",
       "      <th>670</th>\n",
       "      <th>680</th>\n",
       "      <th>690</th>\n",
       "      <th>700</th>\n",
       "      <th>710</th>\n",
       "      <th>720</th>\n",
       "      <th>730</th>\n",
       "    </tr>\n",
       "    <tr>\n",
       "      <th>Color name</th>\n",
       "      <th></th>\n",
       "      <th></th>\n",
       "      <th></th>\n",
       "      <th></th>\n",
       "      <th></th>\n",
       "      <th></th>\n",
       "      <th></th>\n",
       "      <th></th>\n",
       "      <th></th>\n",
       "      <th></th>\n",
       "      <th></th>\n",
       "      <th></th>\n",
       "      <th></th>\n",
       "      <th></th>\n",
       "      <th></th>\n",
       "      <th></th>\n",
       "      <th></th>\n",
       "      <th></th>\n",
       "      <th></th>\n",
       "      <th></th>\n",
       "      <th></th>\n",
       "    </tr>\n",
       "  </thead>\n",
       "  <tbody>\n",
       "    <tr>\n",
       "      <th>dark skin</th>\n",
       "      <td>0.054928</td>\n",
       "      <td>0.058196</td>\n",
       "      <td>0.060952</td>\n",
       "      <td>0.062206</td>\n",
       "      <td>0.062053</td>\n",
       "      <td>0.061716</td>\n",
       "      <td>0.061316</td>\n",
       "      <td>0.060896</td>\n",
       "      <td>0.060749</td>\n",
       "      <td>0.060863</td>\n",
       "      <td>...</td>\n",
       "      <td>0.168002</td>\n",
       "      <td>0.178712</td>\n",
       "      <td>0.187641</td>\n",
       "      <td>0.190216</td>\n",
       "      <td>0.187565</td>\n",
       "      <td>0.184661</td>\n",
       "      <td>0.185506</td>\n",
       "      <td>0.191601</td>\n",
       "      <td>0.200459</td>\n",
       "      <td>0.213745</td>\n",
       "    </tr>\n",
       "    <tr>\n",
       "      <th>light skin</th>\n",
       "      <td>0.121190</td>\n",
       "      <td>0.148141</td>\n",
       "      <td>0.180052</td>\n",
       "      <td>0.196914</td>\n",
       "      <td>0.201313</td>\n",
       "      <td>0.203969</td>\n",
       "      <td>0.208183</td>\n",
       "      <td>0.215898</td>\n",
       "      <td>0.229349</td>\n",
       "      <td>0.250034</td>\n",
       "      <td>...</td>\n",
       "      <td>0.575687</td>\n",
       "      <td>0.593813</td>\n",
       "      <td>0.611101</td>\n",
       "      <td>0.622816</td>\n",
       "      <td>0.634289</td>\n",
       "      <td>0.650544</td>\n",
       "      <td>0.672105</td>\n",
       "      <td>0.692825</td>\n",
       "      <td>0.710127</td>\n",
       "      <td>0.727664</td>\n",
       "    </tr>\n",
       "    <tr>\n",
       "      <th>blue sky</th>\n",
       "      <td>0.140803</td>\n",
       "      <td>0.184342</td>\n",
       "      <td>0.253856</td>\n",
       "      <td>0.306988</td>\n",
       "      <td>0.324564</td>\n",
       "      <td>0.331075</td>\n",
       "      <td>0.334410</td>\n",
       "      <td>0.333286</td>\n",
       "      <td>0.326504</td>\n",
       "      <td>0.314477</td>\n",
       "      <td>...</td>\n",
       "      <td>0.141333</td>\n",
       "      <td>0.144916</td>\n",
       "      <td>0.149528</td>\n",
       "      <td>0.150637</td>\n",
       "      <td>0.147176</td>\n",
       "      <td>0.141332</td>\n",
       "      <td>0.134179</td>\n",
       "      <td>0.130998</td>\n",
       "      <td>0.133358</td>\n",
       "      <td>0.143824</td>\n",
       "    </tr>\n",
       "    <tr>\n",
       "      <th>foliage</th>\n",
       "      <td>0.050885</td>\n",
       "      <td>0.053654</td>\n",
       "      <td>0.055276</td>\n",
       "      <td>0.056408</td>\n",
       "      <td>0.057415</td>\n",
       "      <td>0.058832</td>\n",
       "      <td>0.060468</td>\n",
       "      <td>0.061553</td>\n",
       "      <td>0.062486</td>\n",
       "      <td>0.063456</td>\n",
       "      <td>...</td>\n",
       "      <td>0.106617</td>\n",
       "      <td>0.109036</td>\n",
       "      <td>0.110973</td>\n",
       "      <td>0.111131</td>\n",
       "      <td>0.110686</td>\n",
       "      <td>0.112285</td>\n",
       "      <td>0.116848</td>\n",
       "      <td>0.123456</td>\n",
       "      <td>0.129077</td>\n",
       "      <td>0.135007</td>\n",
       "    </tr>\n",
       "    <tr>\n",
       "      <th>blue flower</th>\n",
       "      <td>0.158202</td>\n",
       "      <td>0.208656</td>\n",
       "      <td>0.300129</td>\n",
       "      <td>0.379623</td>\n",
       "      <td>0.412229</td>\n",
       "      <td>0.424513</td>\n",
       "      <td>0.429127</td>\n",
       "      <td>0.428518</td>\n",
       "      <td>0.421513</td>\n",
       "      <td>0.405380</td>\n",
       "      <td>...</td>\n",
       "      <td>0.275969</td>\n",
       "      <td>0.310294</td>\n",
       "      <td>0.345441</td>\n",
       "      <td>0.364853</td>\n",
       "      <td>0.367350</td>\n",
       "      <td>0.363177</td>\n",
       "      <td>0.361778</td>\n",
       "      <td>0.367687</td>\n",
       "      <td>0.377500</td>\n",
       "      <td>0.394460</td>\n",
       "    </tr>\n",
       "  </tbody>\n",
       "</table>\n",
       "<p>5 rows × 36 columns</p>\n",
       "</div>"
      ],
      "text/plain": [
       "                  380       390       400       410       420       430  \\\n",
       "Color name                                                                \n",
       "dark skin    0.054928  0.058196  0.060952  0.062206  0.062053  0.061716   \n",
       "light skin   0.121190  0.148141  0.180052  0.196914  0.201313  0.203969   \n",
       "blue sky     0.140803  0.184342  0.253856  0.306988  0.324564  0.331075   \n",
       "foliage      0.050885  0.053654  0.055276  0.056408  0.057415  0.058832   \n",
       "blue flower  0.158202  0.208656  0.300129  0.379623  0.412229  0.424513   \n",
       "\n",
       "                  440       450       460       470  ...       640       650  \\\n",
       "Color name                                           ...                       \n",
       "dark skin    0.061316  0.060896  0.060749  0.060863  ...  0.168002  0.178712   \n",
       "light skin   0.208183  0.215898  0.229349  0.250034  ...  0.575687  0.593813   \n",
       "blue sky     0.334410  0.333286  0.326504  0.314477  ...  0.141333  0.144916   \n",
       "foliage      0.060468  0.061553  0.062486  0.063456  ...  0.106617  0.109036   \n",
       "blue flower  0.429127  0.428518  0.421513  0.405380  ...  0.275969  0.310294   \n",
       "\n",
       "                  660       670       680       690       700       710  \\\n",
       "Color name                                                                \n",
       "dark skin    0.187641  0.190216  0.187565  0.184661  0.185506  0.191601   \n",
       "light skin   0.611101  0.622816  0.634289  0.650544  0.672105  0.692825   \n",
       "blue sky     0.149528  0.150637  0.147176  0.141332  0.134179  0.130998   \n",
       "foliage      0.110973  0.111131  0.110686  0.112285  0.116848  0.123456   \n",
       "blue flower  0.345441  0.364853  0.367350  0.363177  0.361778  0.367687   \n",
       "\n",
       "                  720       730  \n",
       "Color name                       \n",
       "dark skin    0.200459  0.213745  \n",
       "light skin   0.710127  0.727664  \n",
       "blue sky     0.133358  0.143824  \n",
       "foliage      0.129077  0.135007  \n",
       "blue flower  0.377500  0.394460  \n",
       "\n",
       "[5 rows x 36 columns]"
      ]
     },
     "execution_count": 35,
     "metadata": {},
     "output_type": "execute_result"
    }
   ],
   "source": [
    "data_colorchecker.head()"
   ]
  },
  {
   "cell_type": "code",
   "execution_count": 64,
   "metadata": {
    "scrolled": true
   },
   "outputs": [
    {
     "data": {
      "text/plain": [
       "(36,)"
      ]
     },
     "execution_count": 64,
     "metadata": {},
     "output_type": "execute_result"
    }
   ],
   "source": [
    "data_colorchecker.loc['dark skin', :].shape\n",
    "# rowData = dfObj.loc[ 'b' , : ]"
   ]
  },
  {
   "cell_type": "code",
   "execution_count": 45,
   "metadata": {
    "scrolled": true
   },
   "outputs": [],
   "source": [
    "data_colormatch = pd.read_csv('ColorChecker2005-ColorMatch.csv', skiprows=1, index_col=0)"
   ]
  },
  {
   "cell_type": "code",
   "execution_count": 46,
   "metadata": {
    "scrolled": true
   },
   "outputs": [
    {
     "data": {
      "text/html": [
       "<div>\n",
       "<style scoped>\n",
       "    .dataframe tbody tr th:only-of-type {\n",
       "        vertical-align: middle;\n",
       "    }\n",
       "\n",
       "    .dataframe tbody tr th {\n",
       "        vertical-align: top;\n",
       "    }\n",
       "\n",
       "    .dataframe thead th {\n",
       "        text-align: right;\n",
       "    }\n",
       "</style>\n",
       "<table border=\"1\" class=\"dataframe\">\n",
       "  <thead>\n",
       "    <tr style=\"text-align: right;\">\n",
       "      <th></th>\n",
       "      <th>R'</th>\n",
       "      <th>G'</th>\n",
       "      <th>B'</th>\n",
       "    </tr>\n",
       "    <tr>\n",
       "      <th>Color name</th>\n",
       "      <th></th>\n",
       "      <th></th>\n",
       "      <th></th>\n",
       "    </tr>\n",
       "  </thead>\n",
       "  <tbody>\n",
       "    <tr>\n",
       "      <th>illuminant</th>\n",
       "      <td>255</td>\n",
       "      <td>255</td>\n",
       "      <td>255</td>\n",
       "    </tr>\n",
       "    <tr>\n",
       "      <th>dark skin</th>\n",
       "      <td>111</td>\n",
       "      <td>85</td>\n",
       "      <td>72</td>\n",
       "    </tr>\n",
       "    <tr>\n",
       "      <th>light skin</th>\n",
       "      <td>191</td>\n",
       "      <td>150</td>\n",
       "      <td>131</td>\n",
       "    </tr>\n",
       "    <tr>\n",
       "      <th>blue sky</th>\n",
       "      <td>93</td>\n",
       "      <td>122</td>\n",
       "      <td>151</td>\n",
       "    </tr>\n",
       "    <tr>\n",
       "      <th>foliage</th>\n",
       "      <td>96</td>\n",
       "      <td>103</td>\n",
       "      <td>72</td>\n",
       "    </tr>\n",
       "  </tbody>\n",
       "</table>\n",
       "</div>"
      ],
      "text/plain": [
       "             R'   G'   B'\n",
       "Color name               \n",
       "illuminant  255  255  255\n",
       "dark skin   111   85   72\n",
       "light skin  191  150  131\n",
       "blue sky     93  122  151\n",
       "foliage      96  103   72"
      ]
     },
     "execution_count": 46,
     "metadata": {},
     "output_type": "execute_result"
    }
   ],
   "source": [
    "data_colormatch.head()"
   ]
  },
  {
   "cell_type": "code",
   "execution_count": 102,
   "metadata": {
    "scrolled": true
   },
   "outputs": [],
   "source": [
    "colormatch_values = list()\n",
    "colormatch_names = list()\n",
    "\n",
    "for i, j in data_colormatch.iterrows():\n",
    "    colormatch_values.append(j.values.tolist())\n",
    "    colormatch_names.append(i)\n",
    "\n",
    "# discarding illuminant\n",
    "colormatch_values = colormatch_values[1:]\n",
    "colormatch_names = colormatch_names[1:]"
   ]
  },
  {
   "cell_type": "code",
   "execution_count": 181,
   "metadata": {},
   "outputs": [
    {
     "data": {
      "text/plain": [
       "[111, 85, 72]"
      ]
     },
     "execution_count": 181,
     "metadata": {},
     "output_type": "execute_result"
    }
   ],
   "source": [
    "colormatch_values[0]"
   ]
  },
  {
   "cell_type": "markdown",
   "metadata": {},
   "source": [
    "## Macbeth ColorChecker chart"
   ]
  },
  {
   "cell_type": "code",
   "execution_count": 103,
   "metadata": {},
   "outputs": [
    {
     "data": {
      "image/png": "[encoded data removed]",
      "text/plain": [
       "<Figure size 1008x1008 with 24 Axes>"
      ]
     },
     "metadata": {},
     "output_type": "display_data"
    }
   ],
   "source": [
    "x, y = 4, 6 # size of color grid\n",
    "\n",
    "fig, ax = plt.subplots(x, y, sharex='col', sharey='row', figsize=(14,14))\n",
    "\n",
    "for i in range(x):\n",
    "    for j in range(y):\n",
    "        img_ij = np.full((2, 2, 3), colormatch_values[i * y + j])\n",
    "        \n",
    "        ax[i, j].axis('off')\n",
    "        ax[i, j].set_title(colormatch_names[i * y + j])\n",
    "        ax[i, j].imshow(img_ij)\n",
    "        ax[i, j].set_aspect('equal')\n",
    "\n",
    "fig.subplots_adjust(wspace=0.0, hspace=0.25, bottom=0.1, top=0.6, left=0.1, right=0.8)"
   ]
  },
  {
   "cell_type": "code",
   "execution_count": 82,
   "metadata": {
    "scrolled": false
   },
   "outputs": [
    {
     "data": {
      "text/html": [
       "<div>\n",
       "<style scoped>\n",
       "    .dataframe tbody tr th:only-of-type {\n",
       "        vertical-align: middle;\n",
       "    }\n",
       "\n",
       "    .dataframe tbody tr th {\n",
       "        vertical-align: top;\n",
       "    }\n",
       "\n",
       "    .dataframe thead th {\n",
       "        text-align: right;\n",
       "    }\n",
       "</style>\n",
       "<table border=\"1\" class=\"dataframe\">\n",
       "  <thead>\n",
       "    <tr style=\"text-align: right;\">\n",
       "      <th></th>\n",
       "      <th>nm</th>\n",
       "      <th>CIE A</th>\n",
       "      <th>CIE D65</th>\n",
       "      <th>VM(l)</th>\n",
       "      <th>V'(l)</th>\n",
       "      <th>x bar</th>\n",
       "      <th>y bar</th>\n",
       "      <th>z bar</th>\n",
       "      <th>x bar.1</th>\n",
       "      <th>y bar.1</th>\n",
       "      <th>z bar.1</th>\n",
       "    </tr>\n",
       "  </thead>\n",
       "  <tbody>\n",
       "    <tr>\n",
       "      <th>80</th>\n",
       "      <td>380</td>\n",
       "      <td>9.7951</td>\n",
       "      <td>49.9755</td>\n",
       "      <td>0.0002</td>\n",
       "      <td>0.000589</td>\n",
       "      <td>0.001368</td>\n",
       "      <td>0.000039</td>\n",
       "      <td>0.00645</td>\n",
       "      <td>0.000160</td>\n",
       "      <td>0.000017</td>\n",
       "      <td>0.000705</td>\n",
       "    </tr>\n",
       "    <tr>\n",
       "      <th>90</th>\n",
       "      <td>390</td>\n",
       "      <td>12.0853</td>\n",
       "      <td>54.6482</td>\n",
       "      <td>0.0008</td>\n",
       "      <td>0.002209</td>\n",
       "      <td>0.004243</td>\n",
       "      <td>0.000120</td>\n",
       "      <td>0.02005</td>\n",
       "      <td>0.002362</td>\n",
       "      <td>0.000253</td>\n",
       "      <td>0.010482</td>\n",
       "    </tr>\n",
       "    <tr>\n",
       "      <th>100</th>\n",
       "      <td>400</td>\n",
       "      <td>14.7080</td>\n",
       "      <td>82.7549</td>\n",
       "      <td>0.0028</td>\n",
       "      <td>0.009290</td>\n",
       "      <td>0.014310</td>\n",
       "      <td>0.000396</td>\n",
       "      <td>0.06785</td>\n",
       "      <td>0.019110</td>\n",
       "      <td>0.002004</td>\n",
       "      <td>0.086011</td>\n",
       "    </tr>\n",
       "    <tr>\n",
       "      <th>110</th>\n",
       "      <td>410</td>\n",
       "      <td>17.6753</td>\n",
       "      <td>91.4860</td>\n",
       "      <td>0.0074</td>\n",
       "      <td>0.034840</td>\n",
       "      <td>0.043510</td>\n",
       "      <td>0.001210</td>\n",
       "      <td>0.20740</td>\n",
       "      <td>0.084736</td>\n",
       "      <td>0.008756</td>\n",
       "      <td>0.389366</td>\n",
       "    </tr>\n",
       "    <tr>\n",
       "      <th>120</th>\n",
       "      <td>420</td>\n",
       "      <td>20.9950</td>\n",
       "      <td>93.4318</td>\n",
       "      <td>0.0175</td>\n",
       "      <td>0.096600</td>\n",
       "      <td>0.134380</td>\n",
       "      <td>0.004000</td>\n",
       "      <td>0.64560</td>\n",
       "      <td>0.204492</td>\n",
       "      <td>0.021391</td>\n",
       "      <td>0.972542</td>\n",
       "    </tr>\n",
       "  </tbody>\n",
       "</table>\n",
       "</div>"
      ],
      "text/plain": [
       "      nm    CIE A  CIE D65   VM(l)     V'(l)     x bar     y bar    z bar  \\\n",
       "80   380   9.7951  49.9755  0.0002  0.000589  0.001368  0.000039  0.00645   \n",
       "90   390  12.0853  54.6482  0.0008  0.002209  0.004243  0.000120  0.02005   \n",
       "100  400  14.7080  82.7549  0.0028  0.009290  0.014310  0.000396  0.06785   \n",
       "110  410  17.6753  91.4860  0.0074  0.034840  0.043510  0.001210  0.20740   \n",
       "120  420  20.9950  93.4318  0.0175  0.096600  0.134380  0.004000  0.64560   \n",
       "\n",
       "      x bar.1   y bar.1   z bar.1  \n",
       "80   0.000160  0.000017  0.000705  \n",
       "90   0.002362  0.000253  0.010482  \n",
       "100  0.019110  0.002004  0.086011  \n",
       "110  0.084736  0.008756  0.389366  \n",
       "120  0.204492  0.021391  0.972542  "
      ]
     },
     "execution_count": 82,
     "metadata": {},
     "output_type": "execute_result"
    }
   ],
   "source": [
    "data_spec = pd.read_excel('all_1nm_data.xls', header=0, skiprows=3)\n",
    "data_spec = data_spec[80:-100:10] # [380, 730] nm range, steps=10\n",
    "data_spec.head()"
   ]
  },
  {
   "cell_type": "code",
   "execution_count": 83,
   "metadata": {},
   "outputs": [],
   "source": [
    "wavelen = data_spec['nm'].values\n",
    "illuminance = data_spec['CIE A'].values # L_w\n",
    "vm = data_spec['VM(l)'].values # Betha\n",
    "v_ = data_spec['V\\'(l)'].values\n",
    "# cie 2. colour-matching\n",
    "xbar = data_spec['x bar'].values \n",
    "ybar = data_spec['y bar'].values\n",
    "zbar = data_spec['z bar'].values"
   ]
  },
  {
   "cell_type": "code",
   "execution_count": 168,
   "metadata": {},
   "outputs": [],
   "source": [
    "def spectrum2xyz(xbar, ybar, zbar, color):\n",
    "    \n",
    "    X = np.sum(xbar * color)\n",
    "    Y = np.sum(ybar * color)\n",
    "    Z = np.sum(zbar * color)\n",
    "    \n",
    "    XYZ = (X + Y + Z)\n",
    "    \n",
    "    x = X / XYZ\n",
    "    y = Y / XYZ\n",
    "    z = Z / XYZ\n",
    "    \n",
    "    return x, y, z"
   ]
  },
  {
   "cell_type": "markdown",
   "metadata": {},
   "source": [
    "### Magenta"
   ]
  },
  {
   "cell_type": "code",
   "execution_count": 301,
   "metadata": {
    "scrolled": true
   },
   "outputs": [
    {
     "name": "stdout",
     "output_type": "stream",
     "text": [
      "[[185  24  88]]\n"
     ]
    }
   ],
   "source": [
    "x, y, z = spectrum2xyz(xbar, ybar, zbar, data_colorchecker.loc['magenta', :].values)\n",
    "rgb = xyz2srgb(x, y, z)\n",
    "rgb = np.clip(rgb, 0.0, 1.0) # clip values [0-1]\n",
    "rgb *= 255\n",
    "rgb = np.array(rgb, dtype='uint8')\n",
    "\n",
    "print(rgb)"
   ]
  },
  {
   "cell_type": "code",
   "execution_count": 302,
   "metadata": {},
   "outputs": [
    {
     "data": {
      "image/png": "[encoded data removed]",
      "text/plain": [
       "<Figure size 432x288 with 1 Axes>"
      ]
     },
     "metadata": {},
     "output_type": "display_data"
    }
   ],
   "source": [
    "# np.full((2, 2, 3), colormatch_values[0])\n",
    "plt.imshow(np.full((2, 2, 3), rgb))\n",
    "plt.show()"
   ]
  },
  {
   "cell_type": "code",
   "execution_count": 105,
   "metadata": {},
   "outputs": [
    {
     "data": {
      "image/png": "[encoded data removed]",
      "text/plain": [
       "<Figure size 432x288 with 1 Axes>"
      ]
     },
     "metadata": {},
     "output_type": "display_data"
    }
   ],
   "source": [
    "plt.plot(wavelen, xbar, label='x')\n",
    "plt.plot(wavelen, ybar, label='y')\n",
    "plt.plot(wavelen, zbar, label='z')\n",
    "plt.title('CIE XYZ 2º')\n",
    "plt.legend()\n",
    "plt.xlabel('nm')\n",
    "plt.show()"
   ]
  },
  {
   "cell_type": "code",
   "execution_count": 106,
   "metadata": {},
   "outputs": [
    {
     "data": {
      "image/png": "[encoded data removed]",
      "text/plain": [
       "<Figure size 432x288 with 1 Axes>"
      ]
     },
     "metadata": {},
     "output_type": "display_data"
    }
   ],
   "source": [
    "plt.plot(wavelen, illuminance)\n",
    "plt.title('Illuminance')\n",
    "plt.xlabel('nm')\n",
    "plt.show()"
   ]
  },
  {
   "cell_type": "code",
   "execution_count": 10,
   "metadata": {
    "scrolled": true
   },
   "outputs": [
    {
     "data": {
      "image/png": "[encoded data removed]",
      "text/plain": [
       "<Figure size 432x288 with 1 Axes>"
      ]
     },
     "metadata": {},
     "output_type": "display_data"
    }
   ],
   "source": [
    "plt.plot(wavelen, vm)\n",
    "plt.title('Material reflection')\n",
    "plt.xlabel('nm')\n",
    "plt.show()"
   ]
  },
  {
   "cell_type": "code",
   "execution_count": 11,
   "metadata": {},
   "outputs": [
    {
     "data": {
      "image/png": "[encoded data removed]",
      "text/plain": [
       "<Figure size 432x288 with 1 Axes>"
      ]
     },
     "metadata": {},
     "output_type": "display_data"
    }
   ],
   "source": [
    "plt.plot(wavelen, (vm * illuminance))\n",
    "plt.title('Illuminance x Material reflection')\n",
    "plt.xlabel('nm')\n",
    "plt.show()"
   ]
  },
  {
   "cell_type": "markdown",
   "metadata": {},
   "source": [
    "## Computing XYZ from spectral data"
   ]
  },
  {
   "cell_type": "code",
   "execution_count": 107,
   "metadata": {},
   "outputs": [],
   "source": [
    "d_lambda = 1.0\n",
    "k = 1.0 / (d_lambda * np.sum(illuminance * ybar))\n",
    "X = k * d_lambda * np.sum(illuminance * vm * xbar)\n",
    "Y = k * d_lambda * np.sum(illuminance * vm * ybar)\n",
    "Z = k * d_lambda * np.sum(illuminance * vm * zbar)"
   ]
  },
  {
   "cell_type": "code",
   "execution_count": 108,
   "metadata": {},
   "outputs": [
    {
     "name": "stdout",
     "output_type": "stream",
     "text": [
      "0.6049214799228358 0.7134110574496908 0.04287454144186048\n"
     ]
    }
   ],
   "source": [
    "print(X, Y, Z)"
   ]
  },
  {
   "cell_type": "code",
   "execution_count": 109,
   "metadata": {},
   "outputs": [],
   "source": [
    "x = X / (X + Y + Z)\n",
    "y = Y / (X + Y + Z)\n",
    "z = Z / (X + Y + Z)"
   ]
  },
  {
   "cell_type": "code",
   "execution_count": 110,
   "metadata": {},
   "outputs": [
    {
     "data": {
      "text/plain": [
       "0.03149744231362983"
      ]
     },
     "execution_count": 110,
     "metadata": {},
     "output_type": "execute_result"
    }
   ],
   "source": [
    "1 - (x + y)"
   ]
  },
  {
   "cell_type": "code",
   "execution_count": 111,
   "metadata": {},
   "outputs": [],
   "source": [
    "y_w = k * d_lambda * np.sum(illuminance * ybar)"
   ]
  },
  {
   "cell_type": "code",
   "execution_count": 112,
   "metadata": {},
   "outputs": [
    {
     "data": {
      "text/plain": [
       "1.0"
      ]
     },
     "execution_count": 112,
     "metadata": {},
     "output_type": "execute_result"
    }
   ],
   "source": [
    "y_w"
   ]
  },
  {
   "cell_type": "markdown",
   "metadata": {},
   "source": [
    "### Colour system"
   ]
  },
  {
   "cell_type": "code",
   "execution_count": 22,
   "metadata": {},
   "outputs": [],
   "source": [
    "# ITU-R BR.709 (IlluminantD65)\n",
    "x_w, y_w = 0.3127, 0.3290\n",
    "x_r, x_g, x_b = 0.64, 0.30, 0.15\n",
    "y_r, y_g, y_b = 0.33, 0.6, 0.06"
   ]
  },
  {
   "cell_type": "markdown",
   "metadata": {},
   "source": [
    "### CIE xyz to sRGB"
   ]
  },
  {
   "cell_type": "code",
   "execution_count": 211,
   "metadata": {},
   "outputs": [],
   "source": [
    "def xyz2srgb(X, Y, Z):\n",
    "    XYZ_T = np.matrix([X, Y, Z]).T\n",
    "    \n",
    "    #sRGB D65\n",
    "    sRGB = np.matrix([\n",
    "        [3.2404542, -1.5371385, -0.4985314,],\n",
    "        [-0.9692660, 1.8760108, 0.0415560,],\n",
    "        [0.0556434, -0.2040259, 1.0572252],\n",
    "    ])\n",
    "    \n",
    "    return sRGB.dot(XYZ_T).flatten()"
   ]
  },
  {
   "cell_type": "code",
   "execution_count": 212,
   "metadata": {},
   "outputs": [
    {
     "data": {
      "text/plain": [
       "matrix([[1.2047843, 0.9483008, 0.9088427]])"
      ]
     },
     "execution_count": 212,
     "metadata": {},
     "output_type": "execute_result"
    }
   ],
   "source": [
    "xyz2srgb(1, 1, 1)"
   ]
  },
  {
   "cell_type": "code",
   "execution_count": null,
   "metadata": {},
   "outputs": [],
   "source": []
  }
 ],
 "metadata": {
  "kernelspec": {
   "display_name": "Python 3",
   "language": "python",
   "name": "python3"
  },
  "language_info": {
   "codemirror_mode": {
    "name": "ipython",
    "version": 3
   },
   "file_extension": ".py",
   "mimetype": "text/x-python",
   "name": "python",
   "nbconvert_exporter": "python",
   "pygments_lexer": "ipython3",
   "version": "3.5.2"
  }
 },
 "nbformat": 4,
 "nbformat_minor": 2
}
