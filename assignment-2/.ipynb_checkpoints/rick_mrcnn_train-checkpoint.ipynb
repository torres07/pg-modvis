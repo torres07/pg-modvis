{
 "cells": [
  {
   "cell_type": "markdown",
   "metadata": {},
   "source": [
    "## Train Mask-RCNN using COCO weights"
   ]
  },
  {
   "cell_type": "code",
   "execution_count": 0,
   "metadata": {
    "colab": {},
    "colab_type": "code",
    "id": "C0tttvmeM5n2"
   },
   "outputs": [],
   "source": [
    "!git clone https://github.com/matterport/Mask_RCNN"
   ]
  },
  {
   "cell_type": "code",
   "execution_count": 0,
   "metadata": {
    "colab": {},
    "colab_type": "code",
    "id": "bCe-gUeJPRfJ"
   },
   "outputs": [],
   "source": [
    "!unzip data-rick.zip"
   ]
  },
  {
   "cell_type": "code",
   "execution_count": 0,
   "metadata": {
    "colab": {},
    "colab_type": "code",
    "id": "7ScG5yDQPzgb"
   },
   "outputs": [],
   "source": [
    "import os \n",
    "\n",
    "os.chdir('Mask_RCNN')\n",
    "!python setup.py install\n",
    "os.chdir('../')"
   ]
  },
  {
   "cell_type": "code",
   "execution_count": 0,
   "metadata": {
    "colab": {},
    "colab_type": "code",
    "id": "ul2rI02qNaK9"
   },
   "outputs": [],
   "source": [
    "!pip3 install -r Mask_RCNN/requirements.txt"
   ]
  },
  {
   "cell_type": "code",
   "execution_count": 0,
   "metadata": {
    "colab": {},
    "colab_type": "code",
    "id": "qG7WvOTRPAde"
   },
   "outputs": [],
   "source": [
    "!python3 rick.py train --dataset=data-rick/ --weights=coco"
   ]
  },
  {
   "cell_type": "code",
   "execution_count": 0,
   "metadata": {
    "colab": {},
    "colab_type": "code",
    "id": "iFgRHgbVbMRZ"
   },
   "outputs": [],
   "source": [
    "!python rick.py splash --weights=../logs/rick20190922T1257/mask_rcnn_rick_0030.h5 --image=data-rick/val/rm_5.jpg"
   ]
  }
 ],
 "metadata": {
  "accelerator": "GPU",
  "colab": {
   "collapsed_sections": [],
   "name": "rick-mrcnn.ipynb",
   "provenance": []
  },
  "kernelspec": {
   "display_name": "Python 3",
   "language": "python",
   "name": "python3"
  },
  "language_info": {
   "codemirror_mode": {
    "name": "ipython",
    "version": 3
   },
   "file_extension": ".py",
   "mimetype": "text/x-python",
   "name": "python",
   "nbconvert_exporter": "python",
   "pygments_lexer": "ipython3",
   "version": "3.6.8"
  }
 },
 "nbformat": 4,
 "nbformat_minor": 1
}
